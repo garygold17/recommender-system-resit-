{
 "cells": [
  {
   "cell_type": "code",
   "execution_count": 1,
   "id": "202fbb60",
   "metadata": {},
   "outputs": [],
   "source": [
    "import math\n",
    "import pandas as pd\n",
    "from lenskit import topn\n",
    "from sklearn.metrics import ndcg_score\n",
    "from statistics import mean, variance\n",
    "from lenskit.algorithms import Recommender\n",
    "from lenskit.algorithms.user_knn import UserUser\n",
    "from lenskit.metrics.topn import ndcg\n",
    "from sklearn.model_selection import train_test_split\n",
    "from sklearn.metrics import precision_recall_fscore_support\n",
    "from lenskit.algorithms import Recommender\n",
    "from lenskit.algorithms.user_knn import UserUser\n",
    "from lenskit.metrics.topn import ndcg\n",
    "from sklearn.model_selection import train_test_split\n",
    "from sklearn.metrics import precision_recall_fscore_support\n",
    "pd.options.mode.chained_assignment = None  # default='warn'"
   ]
  },
  {
   "cell_type": "code",
   "execution_count": 2,
   "id": "cde6afe1",
   "metadata": {},
   "outputs": [],
   "source": [
    "preprocessed_dataset_folder = \"../preprocessed_dataset\""
   ]
  },
  {
   "cell_type": "code",
   "execution_count": 3,
   "id": "b2731930",
   "metadata": {},
   "outputs": [
    {
     "data": {
      "text/html": [
       "<div>\n",
       "<style scoped>\n",
       "    .dataframe tbody tr th:only-of-type {\n",
       "        vertical-align: middle;\n",
       "    }\n",
       "\n",
       "    .dataframe tbody tr th {\n",
       "        vertical-align: top;\n",
       "    }\n",
       "\n",
       "    .dataframe thead th {\n",
       "        text-align: right;\n",
       "    }\n",
       "</style>\n",
       "<table border=\"1\" class=\"dataframe\">\n",
       "  <thead>\n",
       "    <tr style=\"text-align: right;\">\n",
       "      <th></th>\n",
       "      <th>user</th>\n",
       "      <th>item</th>\n",
       "      <th>rating</th>\n",
       "      <th>timestamp</th>\n",
       "    </tr>\n",
       "  </thead>\n",
       "  <tbody>\n",
       "    <tr>\n",
       "      <th>0</th>\n",
       "      <td>1</td>\n",
       "      <td>1</td>\n",
       "      <td>4.0</td>\n",
       "      <td>964982703</td>\n",
       "    </tr>\n",
       "    <tr>\n",
       "      <th>1</th>\n",
       "      <td>1</td>\n",
       "      <td>3</td>\n",
       "      <td>4.0</td>\n",
       "      <td>964981247</td>\n",
       "    </tr>\n",
       "    <tr>\n",
       "      <th>2</th>\n",
       "      <td>1</td>\n",
       "      <td>6</td>\n",
       "      <td>4.0</td>\n",
       "      <td>964982224</td>\n",
       "    </tr>\n",
       "    <tr>\n",
       "      <th>3</th>\n",
       "      <td>1</td>\n",
       "      <td>70</td>\n",
       "      <td>3.0</td>\n",
       "      <td>964982400</td>\n",
       "    </tr>\n",
       "    <tr>\n",
       "      <th>4</th>\n",
       "      <td>1</td>\n",
       "      <td>101</td>\n",
       "      <td>5.0</td>\n",
       "      <td>964980868</td>\n",
       "    </tr>\n",
       "    <tr>\n",
       "      <th>5</th>\n",
       "      <td>1</td>\n",
       "      <td>110</td>\n",
       "      <td>4.0</td>\n",
       "      <td>964982176</td>\n",
       "    </tr>\n",
       "    <tr>\n",
       "      <th>6</th>\n",
       "      <td>1</td>\n",
       "      <td>151</td>\n",
       "      <td>5.0</td>\n",
       "      <td>964984041</td>\n",
       "    </tr>\n",
       "    <tr>\n",
       "      <th>7</th>\n",
       "      <td>1</td>\n",
       "      <td>157</td>\n",
       "      <td>5.0</td>\n",
       "      <td>964984100</td>\n",
       "    </tr>\n",
       "    <tr>\n",
       "      <th>8</th>\n",
       "      <td>1</td>\n",
       "      <td>163</td>\n",
       "      <td>5.0</td>\n",
       "      <td>964983650</td>\n",
       "    </tr>\n",
       "    <tr>\n",
       "      <th>9</th>\n",
       "      <td>1</td>\n",
       "      <td>216</td>\n",
       "      <td>5.0</td>\n",
       "      <td>964981208</td>\n",
       "    </tr>\n",
       "    <tr>\n",
       "      <th>10</th>\n",
       "      <td>1</td>\n",
       "      <td>223</td>\n",
       "      <td>3.0</td>\n",
       "      <td>964980985</td>\n",
       "    </tr>\n",
       "    <tr>\n",
       "      <th>11</th>\n",
       "      <td>1</td>\n",
       "      <td>235</td>\n",
       "      <td>4.0</td>\n",
       "      <td>964980908</td>\n",
       "    </tr>\n",
       "    <tr>\n",
       "      <th>12</th>\n",
       "      <td>1</td>\n",
       "      <td>296</td>\n",
       "      <td>3.0</td>\n",
       "      <td>964982967</td>\n",
       "    </tr>\n",
       "    <tr>\n",
       "      <th>13</th>\n",
       "      <td>1</td>\n",
       "      <td>316</td>\n",
       "      <td>3.0</td>\n",
       "      <td>964982310</td>\n",
       "    </tr>\n",
       "    <tr>\n",
       "      <th>14</th>\n",
       "      <td>1</td>\n",
       "      <td>333</td>\n",
       "      <td>5.0</td>\n",
       "      <td>964981179</td>\n",
       "    </tr>\n",
       "  </tbody>\n",
       "</table>\n",
       "</div>"
      ],
      "text/plain": [
       "    user  item  rating  timestamp\n",
       "0      1     1     4.0  964982703\n",
       "1      1     3     4.0  964981247\n",
       "2      1     6     4.0  964982224\n",
       "3      1    70     3.0  964982400\n",
       "4      1   101     5.0  964980868\n",
       "5      1   110     4.0  964982176\n",
       "6      1   151     5.0  964984041\n",
       "7      1   157     5.0  964984100\n",
       "8      1   163     5.0  964983650\n",
       "9      1   216     5.0  964981208\n",
       "10     1   223     3.0  964980985\n",
       "11     1   235     4.0  964980908\n",
       "12     1   296     3.0  964982967\n",
       "13     1   316     3.0  964982310\n",
       "14     1   333     5.0  964981179"
      ]
     },
     "metadata": {},
     "output_type": "display_data"
    }
   ],
   "source": [
    "ratings_df = pd.read_csv(preprocessed_dataset_folder+\"/ratings.csv\") \n",
    "display(ratings_df.head(15))\n"
   ]
  },
  {
   "cell_type": "code",
   "execution_count": 4,
   "id": "04fd8e3f",
   "metadata": {},
   "outputs": [
    {
     "data": {
      "text/html": [
       "<div>\n",
       "<style scoped>\n",
       "    .dataframe tbody tr th:only-of-type {\n",
       "        vertical-align: middle;\n",
       "    }\n",
       "\n",
       "    .dataframe tbody tr th {\n",
       "        vertical-align: top;\n",
       "    }\n",
       "\n",
       "    .dataframe thead th {\n",
       "        text-align: right;\n",
       "    }\n",
       "</style>\n",
       "<table border=\"1\" class=\"dataframe\">\n",
       "  <thead>\n",
       "    <tr style=\"text-align: right;\">\n",
       "      <th></th>\n",
       "      <th>title</th>\n",
       "      <th>year</th>\n",
       "      <th>genres</th>\n",
       "      <th>plot</th>\n",
       "    </tr>\n",
       "    <tr>\n",
       "      <th>item</th>\n",
       "      <th></th>\n",
       "      <th></th>\n",
       "      <th></th>\n",
       "      <th></th>\n",
       "    </tr>\n",
       "  </thead>\n",
       "  <tbody>\n",
       "    <tr>\n",
       "      <th>1</th>\n",
       "      <td>toy story</td>\n",
       "      <td>1995</td>\n",
       "      <td>Adventure|Animation|Children|Comedy|Fantasy</td>\n",
       "      <td>In a world where toys are living things who pr...</td>\n",
       "    </tr>\n",
       "    <tr>\n",
       "      <th>2</th>\n",
       "      <td>jumanji</td>\n",
       "      <td>1995</td>\n",
       "      <td>Adventure|Children|Fantasy</td>\n",
       "      <td>In 1869, near Brantford, New Hampshire, two br...</td>\n",
       "    </tr>\n",
       "    <tr>\n",
       "      <th>3</th>\n",
       "      <td>grumpier old men</td>\n",
       "      <td>1995</td>\n",
       "      <td>Comedy|Romance</td>\n",
       "      <td>The feud between Max (Walter Matthau) and John...</td>\n",
       "    </tr>\n",
       "    <tr>\n",
       "      <th>4</th>\n",
       "      <td>waiting to exhale</td>\n",
       "      <td>1995</td>\n",
       "      <td>Comedy|Drama|Romance</td>\n",
       "      <td>\"Friends are the People who let you be yoursel...</td>\n",
       "    </tr>\n",
       "    <tr>\n",
       "      <th>5</th>\n",
       "      <td>father of the bride part ii</td>\n",
       "      <td>1995</td>\n",
       "      <td>Comedy</td>\n",
       "      <td>The film begins five years after the events of...</td>\n",
       "    </tr>\n",
       "    <tr>\n",
       "      <th>6</th>\n",
       "      <td>heat</td>\n",
       "      <td>1995</td>\n",
       "      <td>Action|Crime|Thriller</td>\n",
       "      <td>Neil McCauley, a career criminal, hires Waingr...</td>\n",
       "    </tr>\n",
       "    <tr>\n",
       "      <th>7</th>\n",
       "      <td>sabrina</td>\n",
       "      <td>1995</td>\n",
       "      <td>Comedy|Romance</td>\n",
       "      <td>Sabrina Fairchild is the young daughter of the...</td>\n",
       "    </tr>\n",
       "    <tr>\n",
       "      <th>8</th>\n",
       "      <td>tom and huck</td>\n",
       "      <td>1995</td>\n",
       "      <td>Adventure|Children</td>\n",
       "      <td>The movie opens with Injun Joe (Eric Schweig) ...</td>\n",
       "    </tr>\n",
       "    <tr>\n",
       "      <th>9</th>\n",
       "      <td>sudden death</td>\n",
       "      <td>1995</td>\n",
       "      <td>Action</td>\n",
       "      <td>Darren McCord (Jean-Claude Van Damme) is a Fre...</td>\n",
       "    </tr>\n",
       "    <tr>\n",
       "      <th>10</th>\n",
       "      <td>goldeneye</td>\n",
       "      <td>1995</td>\n",
       "      <td>Action|Adventure|Thriller</td>\n",
       "      <td>In 1986, at Arkhangelsk, MI6 agents James Bond...</td>\n",
       "    </tr>\n",
       "    <tr>\n",
       "      <th>12</th>\n",
       "      <td>dracula: dead and loving it</td>\n",
       "      <td>1995</td>\n",
       "      <td>Comedy|Horror</td>\n",
       "      <td>Solicitor Thomas Renfield travels all the way ...</td>\n",
       "    </tr>\n",
       "    <tr>\n",
       "      <th>13</th>\n",
       "      <td>balto</td>\n",
       "      <td>1995</td>\n",
       "      <td>Adventure|Animation|Children</td>\n",
       "      <td>In New York City, an elderly woman, her grandd...</td>\n",
       "    </tr>\n",
       "    <tr>\n",
       "      <th>14</th>\n",
       "      <td>nixon</td>\n",
       "      <td>1995</td>\n",
       "      <td>Drama</td>\n",
       "      <td>The movie begins in 1972 with the White House ...</td>\n",
       "    </tr>\n",
       "    <tr>\n",
       "      <th>15</th>\n",
       "      <td>cutthroat island</td>\n",
       "      <td>1995</td>\n",
       "      <td>Action|Adventure|Romance</td>\n",
       "      <td>In 1668 Jamaica, Morgan Adams hunts down her u...</td>\n",
       "    </tr>\n",
       "  </tbody>\n",
       "</table>\n",
       "</div>"
      ],
      "text/plain": [
       "                            title  year  \\\n",
       "item                                      \n",
       "1                       toy story  1995   \n",
       "2                         jumanji  1995   \n",
       "3                grumpier old men  1995   \n",
       "4               waiting to exhale  1995   \n",
       "5     father of the bride part ii  1995   \n",
       "6                            heat  1995   \n",
       "7                         sabrina  1995   \n",
       "8                    tom and huck  1995   \n",
       "9                    sudden death  1995   \n",
       "10                      goldeneye  1995   \n",
       "12    dracula: dead and loving it  1995   \n",
       "13                          balto  1995   \n",
       "14                          nixon  1995   \n",
       "15               cutthroat island  1995   \n",
       "\n",
       "                                           genres  \\\n",
       "item                                                \n",
       "1     Adventure|Animation|Children|Comedy|Fantasy   \n",
       "2                      Adventure|Children|Fantasy   \n",
       "3                                  Comedy|Romance   \n",
       "4                            Comedy|Drama|Romance   \n",
       "5                                          Comedy   \n",
       "6                           Action|Crime|Thriller   \n",
       "7                                  Comedy|Romance   \n",
       "8                              Adventure|Children   \n",
       "9                                          Action   \n",
       "10                      Action|Adventure|Thriller   \n",
       "12                                  Comedy|Horror   \n",
       "13                   Adventure|Animation|Children   \n",
       "14                                          Drama   \n",
       "15                       Action|Adventure|Romance   \n",
       "\n",
       "                                                   plot  \n",
       "item                                                     \n",
       "1     In a world where toys are living things who pr...  \n",
       "2     In 1869, near Brantford, New Hampshire, two br...  \n",
       "3     The feud between Max (Walter Matthau) and John...  \n",
       "4     \"Friends are the People who let you be yoursel...  \n",
       "5     The film begins five years after the events of...  \n",
       "6     Neil McCauley, a career criminal, hires Waingr...  \n",
       "7     Sabrina Fairchild is the young daughter of the...  \n",
       "8     The movie opens with Injun Joe (Eric Schweig) ...  \n",
       "9     Darren McCord (Jean-Claude Van Damme) is a Fre...  \n",
       "10    In 1986, at Arkhangelsk, MI6 agents James Bond...  \n",
       "12    Solicitor Thomas Renfield travels all the way ...  \n",
       "13    In New York City, an elderly woman, her grandd...  \n",
       "14    The movie begins in 1972 with the White House ...  \n",
       "15    In 1668 Jamaica, Morgan Adams hunts down her u...  "
      ]
     },
     "metadata": {},
     "output_type": "display_data"
    }
   ],
   "source": [
    "movies_df = pd.read_csv(preprocessed_dataset_folder+\"/movies.csv\", index_col=\"item\")\n",
    "display(movies_df.head(14))"
   ]
  },
  {
   "cell_type": "code",
   "execution_count": 5,
   "id": "66fb87b6",
   "metadata": {},
   "outputs": [
    {
     "name": "stdout",
     "output_type": "stream",
     "text": [
      "Selected users: [305  45 590 380]\n"
     ]
    }
   ],
   "source": [
    "# selection of random user and create groups of size 4\n",
    "\n",
    "users_ratings = ratings_df.groupby(['user']).count()\n",
    "\n",
    "groupsize = 4\n",
    "\n",
    "selected = users_ratings['rating'] > 200\n",
    "selected_users = users_ratings.loc[selected]\n",
    "random_selected = selected_users.sample(groupsize) # sample() returns a random row from the dataframe. The returned object is a dataframe with one row. If you pass a number as argument you specify to select more than one row.\n",
    "select_column_df = random_selected.reset_index()['user'] # reset_index() create a new index, and the user became a column. Then, we can filter using the column name\n",
    "selected_users = select_column_df.values # iloc select by index, since our dataframe only has one row we read it from the index 0\n",
    "selected_user = select_column_df.iloc[0] \n",
    "\n",
    "print(\"Selected users: \" + str(selected_users))"
   ]
  },
  {
   "cell_type": "code",
   "execution_count": 6,
   "id": "020d2d97",
   "metadata": {},
   "outputs": [
    {
     "name": "stderr",
     "output_type": "stream",
     "text": [
      "BLAS using multiple threads - can cause oversubscription\n",
      "found 1 potential runtime problems - see https://boi.st/lkpy-perf\n"
     ]
    },
    {
     "name": "stdout",
     "output_type": "stream",
     "text": [
      "Precision:\t0.7057993049522154\n",
      "Recall:\t0.856483921982077\n",
      "Fscore:\t0.7738747320790664\n"
     ]
    }
   ],
   "source": [
    "#Evaluation of a collaborative filtering approach using a holduot strategy with 80% for the training set and\n",
    "#remaining for test set\n",
    "train_df, test_df = train_test_split(ratings_df, test_size=0.2)\n",
    "\n",
    "user_user = UserUser(15, min_nbrs=3)  # Minimum (3) and maximum (15) number of neighbors to consider\n",
    "recsys = Recommender.adapt(user_user)\n",
    "recsys.fit(train_df)\n",
    "\n",
    "test_df['predicted_rating'] = recsys.predict(test_df)\n",
    "\n",
    "test_df['relevant'] = test_df['rating'].apply(lambda x: 1 if x>3 else 0)\n",
    "test_df['predicted_relevant'] = test_df['predicted_rating'].apply(lambda x: 1 if x>3 else 0)\n",
    "\n",
    "predicted_rating = test_df['predicted_rating'].apply(lambda x: 1 if x>3 else 0)\n",
    "\n",
    "y_test = list(test_df['relevant'])\n",
    "y_pred = list(test_df['predicted_relevant'])\n",
    "precision, recall, fscore, _ = precision_recall_fscore_support(y_test, y_pred, average=\"binary\")\n",
    "\n",
    "print(\"Precision:\\t\" + str(precision) + \n",
    "      \"\\nRecall:\\t\" + str(recall) + \n",
    "      \"\\nFscore:\\t\" + str(fscore))\n"
   ]
  },
  {
   "cell_type": "code",
   "execution_count": 7,
   "id": "530ad7f5",
   "metadata": {},
   "outputs": [],
   "source": [
    "group_list = []\n",
    "for i in selected_users:\n",
    "    selected_movies = recsys.recommend(i, 10)\n",
    "    group_list.append(selected_movies)"
   ]
  },
  {
   "cell_type": "code",
   "execution_count": 8,
   "id": "0fb46c6d",
   "metadata": {},
   "outputs": [],
   "source": [
    "group_df = pd.concat(group_list)\n",
    "group_df.drop_duplicates(subset=[\"item\"], inplace=True)"
   ]
  },
  {
   "cell_type": "code",
   "execution_count": 9,
   "id": "1e79fc37",
   "metadata": {},
   "outputs": [
    {
     "name": "stdout",
     "output_type": "stream",
     "text": [
      "305\n",
      "45\n",
      "590\n",
      "380\n"
     ]
    }
   ],
   "source": [
    "lst = []\n",
    "for i in selected_users:\n",
    "    print(i)\n",
    "    grp = group_df.copy()\n",
    "    grp[\"user\"] = i\n",
    "    grp[\"pred\"] = recsys.predict_for_user(i, grp[\"item\"]).values\n",
    "    lst.append(grp)"
   ]
  },
  {
   "cell_type": "code",
   "execution_count": 10,
   "id": "8a41fa8e",
   "metadata": {},
   "outputs": [],
   "source": [
    "final = pd.concat(lst)"
   ]
  },
  {
   "cell_type": "code",
   "execution_count": 11,
   "id": "8f20fbe9",
   "metadata": {
    "scrolled": false
   },
   "outputs": [],
   "source": [
    "#Here I implement both least misery and additive aggregations strategies\n",
    "final.sort_values(by=[\"pred\"], inplace=True, ascending=False)\n",
    "final\n",
    "\n",
    "gbadd = final.groupby(\"item\", as_index=False)[\"pred\"].sum() #Additive strat\n",
    "gbleast = final.groupby(\"item\", as_index=False)[\"pred\"].min() #Least misery strat\n"
   ]
  },
  {
   "cell_type": "code",
   "execution_count": 12,
   "id": "41e205d3",
   "metadata": {},
   "outputs": [
    {
     "data": {
      "text/html": [
       "<div>\n",
       "<style scoped>\n",
       "    .dataframe tbody tr th:only-of-type {\n",
       "        vertical-align: middle;\n",
       "    }\n",
       "\n",
       "    .dataframe tbody tr th {\n",
       "        vertical-align: top;\n",
       "    }\n",
       "\n",
       "    .dataframe thead th {\n",
       "        text-align: right;\n",
       "    }\n",
       "</style>\n",
       "<table border=\"1\" class=\"dataframe\">\n",
       "  <thead>\n",
       "    <tr style=\"text-align: right;\">\n",
       "      <th></th>\n",
       "      <th>item</th>\n",
       "      <th>pred</th>\n",
       "    </tr>\n",
       "  </thead>\n",
       "  <tbody>\n",
       "    <tr>\n",
       "      <th>19</th>\n",
       "      <td>7706</td>\n",
       "      <td>19.250944</td>\n",
       "    </tr>\n",
       "    <tr>\n",
       "      <th>5</th>\n",
       "      <td>1411</td>\n",
       "      <td>19.232469</td>\n",
       "    </tr>\n",
       "    <tr>\n",
       "      <th>10</th>\n",
       "      <td>3201</td>\n",
       "      <td>18.991807</td>\n",
       "    </tr>\n",
       "    <tr>\n",
       "      <th>13</th>\n",
       "      <td>4226</td>\n",
       "      <td>18.961137</td>\n",
       "    </tr>\n",
       "    <tr>\n",
       "      <th>1</th>\n",
       "      <td>1041</td>\n",
       "      <td>18.940627</td>\n",
       "    </tr>\n",
       "  </tbody>\n",
       "</table>\n",
       "</div>"
      ],
      "text/plain": [
       "    item       pred\n",
       "19  7706  19.250944\n",
       "5   1411  19.232469\n",
       "10  3201  18.991807\n",
       "13  4226  18.961137\n",
       "1   1041  18.940627"
      ]
     },
     "execution_count": 12,
     "metadata": {},
     "output_type": "execute_result"
    }
   ],
   "source": [
    "# considering 5 recommendations of add strat\n",
    "final_recommendationsAdd = gbadd.sort_values(by=[\"pred\"], ascending=False).head(5)\n",
    "final_recommendationsAdd"
   ]
  },
  {
   "cell_type": "code",
   "execution_count": 13,
   "id": "77b25425",
   "metadata": {},
   "outputs": [
    {
     "data": {
      "text/html": [
       "<div>\n",
       "<style scoped>\n",
       "    .dataframe tbody tr th:only-of-type {\n",
       "        vertical-align: middle;\n",
       "    }\n",
       "\n",
       "    .dataframe tbody tr th {\n",
       "        vertical-align: top;\n",
       "    }\n",
       "\n",
       "    .dataframe thead th {\n",
       "        text-align: right;\n",
       "    }\n",
       "</style>\n",
       "<table border=\"1\" class=\"dataframe\">\n",
       "  <thead>\n",
       "    <tr style=\"text-align: right;\">\n",
       "      <th></th>\n",
       "      <th>item</th>\n",
       "      <th>pred</th>\n",
       "    </tr>\n",
       "  </thead>\n",
       "  <tbody>\n",
       "    <tr>\n",
       "      <th>0</th>\n",
       "      <td>85</td>\n",
       "      <td>5.165946</td>\n",
       "    </tr>\n",
       "    <tr>\n",
       "      <th>18</th>\n",
       "      <td>7121</td>\n",
       "      <td>4.868012</td>\n",
       "    </tr>\n",
       "    <tr>\n",
       "      <th>14</th>\n",
       "      <td>4419</td>\n",
       "      <td>4.578486</td>\n",
       "    </tr>\n",
       "    <tr>\n",
       "      <th>16</th>\n",
       "      <td>5833</td>\n",
       "      <td>4.371764</td>\n",
       "    </tr>\n",
       "    <tr>\n",
       "      <th>3</th>\n",
       "      <td>1178</td>\n",
       "      <td>4.343380</td>\n",
       "    </tr>\n",
       "  </tbody>\n",
       "</table>\n",
       "</div>"
      ],
      "text/plain": [
       "    item      pred\n",
       "0     85  5.165946\n",
       "18  7121  4.868012\n",
       "14  4419  4.578486\n",
       "16  5833  4.371764\n",
       "3   1178  4.343380"
      ]
     },
     "execution_count": 13,
     "metadata": {},
     "output_type": "execute_result"
    }
   ],
   "source": [
    "# considering 5 recommendations of least strat\n",
    "final_recommendationsleast = gbleast.sort_values(by=[\"pred\"], ascending=False).head(5)\n",
    "final_recommendationsleast"
   ]
  },
  {
   "cell_type": "code",
   "execution_count": 14,
   "id": "eb21556c",
   "metadata": {
    "scrolled": true
   },
   "outputs": [
    {
     "data": {
      "text/html": [
       "<div>\n",
       "<style scoped>\n",
       "    .dataframe tbody tr th:only-of-type {\n",
       "        vertical-align: middle;\n",
       "    }\n",
       "\n",
       "    .dataframe tbody tr th {\n",
       "        vertical-align: top;\n",
       "    }\n",
       "\n",
       "    .dataframe thead th {\n",
       "        text-align: right;\n",
       "    }\n",
       "</style>\n",
       "<table border=\"1\" class=\"dataframe\">\n",
       "  <thead>\n",
       "    <tr style=\"text-align: right;\">\n",
       "      <th></th>\n",
       "      <th>item</th>\n",
       "      <th>pred</th>\n",
       "    </tr>\n",
       "  </thead>\n",
       "  <tbody>\n",
       "    <tr>\n",
       "      <th>19</th>\n",
       "      <td>7706</td>\n",
       "      <td>19.250944</td>\n",
       "    </tr>\n",
       "    <tr>\n",
       "      <th>5</th>\n",
       "      <td>1411</td>\n",
       "      <td>19.232469</td>\n",
       "    </tr>\n",
       "    <tr>\n",
       "      <th>10</th>\n",
       "      <td>3201</td>\n",
       "      <td>18.991807</td>\n",
       "    </tr>\n",
       "    <tr>\n",
       "      <th>13</th>\n",
       "      <td>4226</td>\n",
       "      <td>18.961137</td>\n",
       "    </tr>\n",
       "    <tr>\n",
       "      <th>1</th>\n",
       "      <td>1041</td>\n",
       "      <td>18.940627</td>\n",
       "    </tr>\n",
       "  </tbody>\n",
       "</table>\n",
       "</div>"
      ],
      "text/plain": [
       "    item       pred\n",
       "19  7706  19.250944\n",
       "5   1411  19.232469\n",
       "10  3201  18.991807\n",
       "13  4226  18.961137\n",
       "1   1041  18.940627"
      ]
     },
     "execution_count": 14,
     "metadata": {},
     "output_type": "execute_result"
    }
   ],
   "source": [
    "evaluateAdd = final_recommendationsAdd.copy()\n",
    "for i in selected_users:\n",
    "    evaluateAdd[i] = recsys.predict_for_user(i, final_recommendationsAdd[\"item\"]).values\n",
    "evaluateAdd\n",
    "# if scores cannot be predicted replace with 0\n",
    "evaluateAdd.fillna(0, inplace=True)\n",
    "recommended_ordering = pd.DataFrame(evaluateAdd[[\"item\",\"pred\"]])\n",
    "recommended_ordering"
   ]
  },
  {
   "cell_type": "code",
   "execution_count": 15,
   "id": "3c39487b",
   "metadata": {},
   "outputs": [
    {
     "data": {
      "text/html": [
       "<div>\n",
       "<style scoped>\n",
       "    .dataframe tbody tr th:only-of-type {\n",
       "        vertical-align: middle;\n",
       "    }\n",
       "\n",
       "    .dataframe tbody tr th {\n",
       "        vertical-align: top;\n",
       "    }\n",
       "\n",
       "    .dataframe thead th {\n",
       "        text-align: right;\n",
       "    }\n",
       "</style>\n",
       "<table border=\"1\" class=\"dataframe\">\n",
       "  <thead>\n",
       "    <tr style=\"text-align: right;\">\n",
       "      <th></th>\n",
       "      <th>item</th>\n",
       "      <th>pred</th>\n",
       "    </tr>\n",
       "  </thead>\n",
       "  <tbody>\n",
       "    <tr>\n",
       "      <th>0</th>\n",
       "      <td>85</td>\n",
       "      <td>5.165946</td>\n",
       "    </tr>\n",
       "    <tr>\n",
       "      <th>18</th>\n",
       "      <td>7121</td>\n",
       "      <td>4.868012</td>\n",
       "    </tr>\n",
       "    <tr>\n",
       "      <th>14</th>\n",
       "      <td>4419</td>\n",
       "      <td>4.578486</td>\n",
       "    </tr>\n",
       "    <tr>\n",
       "      <th>16</th>\n",
       "      <td>5833</td>\n",
       "      <td>4.371764</td>\n",
       "    </tr>\n",
       "    <tr>\n",
       "      <th>3</th>\n",
       "      <td>1178</td>\n",
       "      <td>4.343380</td>\n",
       "    </tr>\n",
       "  </tbody>\n",
       "</table>\n",
       "</div>"
      ],
      "text/plain": [
       "    item      pred\n",
       "0     85  5.165946\n",
       "18  7121  4.868012\n",
       "14  4419  4.578486\n",
       "16  5833  4.371764\n",
       "3   1178  4.343380"
      ]
     },
     "execution_count": 15,
     "metadata": {},
     "output_type": "execute_result"
    }
   ],
   "source": [
    "evaluateleast = final_recommendationsleast.copy()\n",
    "for i in selected_users:\n",
    "    evaluateleast[i] = recsys.predict_for_user(i, final_recommendationsleast[\"item\"]).values\n",
    "evaluateleast\n",
    "# if scores cannot be predicted replace them with null value\n",
    "evaluateleast.fillna(0, inplace=True)\n",
    "recommended_orderingleast = pd.DataFrame(evaluateleast[[\"item\",\"pred\"]])\n",
    "recommended_orderingleast"
   ]
  },
  {
   "cell_type": "code",
   "execution_count": 16,
   "id": "7ce739b8",
   "metadata": {},
   "outputs": [
    {
     "data": {
      "text/plain": [
       "[0.9401238043815143, 0.768421937966913, 0.7212720520447977, 0.9490565640464597]"
      ]
     },
     "execution_count": 16,
     "metadata": {},
     "output_type": "execute_result"
    }
   ],
   "source": [
    "#decupled evaluation for additive strategy\n",
    "ndcg_lstAdd = []\n",
    "\n",
    "for i in selected_users:\n",
    "    evaluateAdd.sort_values(by=[i], ascending=False, inplace=True)\n",
    "    ev = pd.DataFrame(evaluateAdd[[\"item\", i]])\n",
    "    val = ndcg_score([ev.item], [recommended_ordering.item])\n",
    "    ndcg_lstAdd.append(val)\n",
    "\n",
    "ndcg_lstAdd"
   ]
  },
  {
   "cell_type": "code",
   "execution_count": 17,
   "id": "bb0085a4",
   "metadata": {},
   "outputs": [
    {
     "data": {
      "text/plain": [
       "[0.7285862242177429, 0.620080843855991, 0.9999999999999999, 0.7432401618460841]"
      ]
     },
     "execution_count": 17,
     "metadata": {},
     "output_type": "execute_result"
    }
   ],
   "source": [
    "#decoupled evaluation for least misery strategy\n",
    "ndcg_lstleast = []\n",
    "\n",
    "for i in selected_users:\n",
    "    evaluateleast.sort_values(by=[i], ascending=False, inplace=True)\n",
    "    ev = pd.DataFrame(evaluateleast[[\"item\", i]])\n",
    "    val = ndcg_score([ev.item], [recommended_orderingleast.item])\n",
    "    ndcg_lstleast.append(val)\n",
    "\n",
    "ndcg_lstleast"
   ]
  },
  {
   "cell_type": "code",
   "execution_count": 18,
   "id": "bca56ccf",
   "metadata": {},
   "outputs": [
    {
     "data": {
      "text/plain": [
       "0.8447185896099212"
      ]
     },
     "execution_count": 18,
     "metadata": {},
     "output_type": "execute_result"
    }
   ],
   "source": [
    "#then I take the mean of the ndcg score for add strat\n",
    "mean(ndcg_lstAdd)"
   ]
  },
  {
   "cell_type": "code",
   "execution_count": 19,
   "id": "b9dc28b2",
   "metadata": {},
   "outputs": [
    {
     "data": {
      "text/plain": [
       "0.7729768074799545"
      ]
     },
     "execution_count": 19,
     "metadata": {},
     "output_type": "execute_result"
    }
   ],
   "source": [
    "#and then the mean of the ndcg score for least strat\n",
    "mean(ndcg_lstleast)"
   ]
  }
 ],
 "metadata": {
  "kernelspec": {
   "display_name": "Python 3 (ipykernel)",
   "language": "python",
   "name": "python3"
  },
  "language_info": {
   "codemirror_mode": {
    "name": "ipython",
    "version": 3
   },
   "file_extension": ".py",
   "mimetype": "text/x-python",
   "name": "python",
   "nbconvert_exporter": "python",
   "pygments_lexer": "ipython3",
   "version": "3.9.13"
  }
 },
 "nbformat": 4,
 "nbformat_minor": 5
}
