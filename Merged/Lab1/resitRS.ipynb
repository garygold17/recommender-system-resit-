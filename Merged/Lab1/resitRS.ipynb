{
 "cells": [
  {
   "cell_type": "code",
   "execution_count": 1,
   "id": "e7b48ae1",
   "metadata": {},
   "outputs": [],
   "source": [
    "import math\n",
    "import pandas as pd\n",
    "from lenskit import topn\n",
    "from sklearn.metrics import ndcg_score\n",
    "from statistics import mean, variance\n",
    "from lenskit.algorithms import Recommender\n",
    "from lenskit.algorithms.user_knn import UserUser\n",
    "from lenskit.metrics.topn import ndcg\n",
    "from sklearn.model_selection import train_test_split\n",
    "from sklearn.metrics import precision_recall_fscore_support\n",
    "from lenskit.algorithms import Recommender\n",
    "from lenskit.algorithms.user_knn import UserUser\n",
    "from lenskit.metrics.topn import ndcg\n",
    "from sklearn.model_selection import train_test_split\n",
    "from sklearn.metrics import precision_recall_fscore_support\n",
    "pd.options.mode.chained_assignment = None  # default='warn'"
   ]
  },
  {
   "cell_type": "code",
   "execution_count": 2,
   "id": "5cbf4872",
   "metadata": {},
   "outputs": [],
   "source": [
    "preprocessed_dataset_folder = \"../preprocessed_dataset\""
   ]
  },
  {
   "cell_type": "code",
   "execution_count": 3,
   "id": "0c9be4ae",
   "metadata": {},
   "outputs": [
    {
     "data": {
      "text/html": [
       "<div>\n",
       "<style scoped>\n",
       "    .dataframe tbody tr th:only-of-type {\n",
       "        vertical-align: middle;\n",
       "    }\n",
       "\n",
       "    .dataframe tbody tr th {\n",
       "        vertical-align: top;\n",
       "    }\n",
       "\n",
       "    .dataframe thead th {\n",
       "        text-align: right;\n",
       "    }\n",
       "</style>\n",
       "<table border=\"1\" class=\"dataframe\">\n",
       "  <thead>\n",
       "    <tr style=\"text-align: right;\">\n",
       "      <th></th>\n",
       "      <th>user</th>\n",
       "      <th>item</th>\n",
       "      <th>rating</th>\n",
       "      <th>timestamp</th>\n",
       "    </tr>\n",
       "  </thead>\n",
       "  <tbody>\n",
       "    <tr>\n",
       "      <th>0</th>\n",
       "      <td>1</td>\n",
       "      <td>1</td>\n",
       "      <td>4.0</td>\n",
       "      <td>964982703</td>\n",
       "    </tr>\n",
       "    <tr>\n",
       "      <th>1</th>\n",
       "      <td>1</td>\n",
       "      <td>3</td>\n",
       "      <td>4.0</td>\n",
       "      <td>964981247</td>\n",
       "    </tr>\n",
       "    <tr>\n",
       "      <th>2</th>\n",
       "      <td>1</td>\n",
       "      <td>6</td>\n",
       "      <td>4.0</td>\n",
       "      <td>964982224</td>\n",
       "    </tr>\n",
       "    <tr>\n",
       "      <th>3</th>\n",
       "      <td>1</td>\n",
       "      <td>70</td>\n",
       "      <td>3.0</td>\n",
       "      <td>964982400</td>\n",
       "    </tr>\n",
       "    <tr>\n",
       "      <th>4</th>\n",
       "      <td>1</td>\n",
       "      <td>101</td>\n",
       "      <td>5.0</td>\n",
       "      <td>964980868</td>\n",
       "    </tr>\n",
       "    <tr>\n",
       "      <th>5</th>\n",
       "      <td>1</td>\n",
       "      <td>110</td>\n",
       "      <td>4.0</td>\n",
       "      <td>964982176</td>\n",
       "    </tr>\n",
       "    <tr>\n",
       "      <th>6</th>\n",
       "      <td>1</td>\n",
       "      <td>151</td>\n",
       "      <td>5.0</td>\n",
       "      <td>964984041</td>\n",
       "    </tr>\n",
       "    <tr>\n",
       "      <th>7</th>\n",
       "      <td>1</td>\n",
       "      <td>157</td>\n",
       "      <td>5.0</td>\n",
       "      <td>964984100</td>\n",
       "    </tr>\n",
       "    <tr>\n",
       "      <th>8</th>\n",
       "      <td>1</td>\n",
       "      <td>163</td>\n",
       "      <td>5.0</td>\n",
       "      <td>964983650</td>\n",
       "    </tr>\n",
       "    <tr>\n",
       "      <th>9</th>\n",
       "      <td>1</td>\n",
       "      <td>216</td>\n",
       "      <td>5.0</td>\n",
       "      <td>964981208</td>\n",
       "    </tr>\n",
       "    <tr>\n",
       "      <th>10</th>\n",
       "      <td>1</td>\n",
       "      <td>223</td>\n",
       "      <td>3.0</td>\n",
       "      <td>964980985</td>\n",
       "    </tr>\n",
       "    <tr>\n",
       "      <th>11</th>\n",
       "      <td>1</td>\n",
       "      <td>235</td>\n",
       "      <td>4.0</td>\n",
       "      <td>964980908</td>\n",
       "    </tr>\n",
       "    <tr>\n",
       "      <th>12</th>\n",
       "      <td>1</td>\n",
       "      <td>296</td>\n",
       "      <td>3.0</td>\n",
       "      <td>964982967</td>\n",
       "    </tr>\n",
       "    <tr>\n",
       "      <th>13</th>\n",
       "      <td>1</td>\n",
       "      <td>316</td>\n",
       "      <td>3.0</td>\n",
       "      <td>964982310</td>\n",
       "    </tr>\n",
       "    <tr>\n",
       "      <th>14</th>\n",
       "      <td>1</td>\n",
       "      <td>333</td>\n",
       "      <td>5.0</td>\n",
       "      <td>964981179</td>\n",
       "    </tr>\n",
       "  </tbody>\n",
       "</table>\n",
       "</div>"
      ],
      "text/plain": [
       "    user  item  rating  timestamp\n",
       "0      1     1     4.0  964982703\n",
       "1      1     3     4.0  964981247\n",
       "2      1     6     4.0  964982224\n",
       "3      1    70     3.0  964982400\n",
       "4      1   101     5.0  964980868\n",
       "5      1   110     4.0  964982176\n",
       "6      1   151     5.0  964984041\n",
       "7      1   157     5.0  964984100\n",
       "8      1   163     5.0  964983650\n",
       "9      1   216     5.0  964981208\n",
       "10     1   223     3.0  964980985\n",
       "11     1   235     4.0  964980908\n",
       "12     1   296     3.0  964982967\n",
       "13     1   316     3.0  964982310\n",
       "14     1   333     5.0  964981179"
      ]
     },
     "metadata": {},
     "output_type": "display_data"
    }
   ],
   "source": [
    "ratings_df = pd.read_csv(preprocessed_dataset_folder+\"/ratings.csv\") \n",
    "display(ratings_df.head(15))\n"
   ]
  },
  {
   "cell_type": "code",
   "execution_count": 4,
   "id": "cedbae91",
   "metadata": {},
   "outputs": [
    {
     "data": {
      "text/html": [
       "<div>\n",
       "<style scoped>\n",
       "    .dataframe tbody tr th:only-of-type {\n",
       "        vertical-align: middle;\n",
       "    }\n",
       "\n",
       "    .dataframe tbody tr th {\n",
       "        vertical-align: top;\n",
       "    }\n",
       "\n",
       "    .dataframe thead th {\n",
       "        text-align: right;\n",
       "    }\n",
       "</style>\n",
       "<table border=\"1\" class=\"dataframe\">\n",
       "  <thead>\n",
       "    <tr style=\"text-align: right;\">\n",
       "      <th></th>\n",
       "      <th>title</th>\n",
       "      <th>year</th>\n",
       "      <th>genres</th>\n",
       "      <th>plot</th>\n",
       "    </tr>\n",
       "    <tr>\n",
       "      <th>item</th>\n",
       "      <th></th>\n",
       "      <th></th>\n",
       "      <th></th>\n",
       "      <th></th>\n",
       "    </tr>\n",
       "  </thead>\n",
       "  <tbody>\n",
       "    <tr>\n",
       "      <th>1</th>\n",
       "      <td>toy story</td>\n",
       "      <td>1995</td>\n",
       "      <td>Adventure|Animation|Children|Comedy|Fantasy</td>\n",
       "      <td>In a world where toys are living things who pr...</td>\n",
       "    </tr>\n",
       "    <tr>\n",
       "      <th>2</th>\n",
       "      <td>jumanji</td>\n",
       "      <td>1995</td>\n",
       "      <td>Adventure|Children|Fantasy</td>\n",
       "      <td>In 1869, near Brantford, New Hampshire, two br...</td>\n",
       "    </tr>\n",
       "    <tr>\n",
       "      <th>3</th>\n",
       "      <td>grumpier old men</td>\n",
       "      <td>1995</td>\n",
       "      <td>Comedy|Romance</td>\n",
       "      <td>The feud between Max (Walter Matthau) and John...</td>\n",
       "    </tr>\n",
       "    <tr>\n",
       "      <th>4</th>\n",
       "      <td>waiting to exhale</td>\n",
       "      <td>1995</td>\n",
       "      <td>Comedy|Drama|Romance</td>\n",
       "      <td>\"Friends are the People who let you be yoursel...</td>\n",
       "    </tr>\n",
       "    <tr>\n",
       "      <th>5</th>\n",
       "      <td>father of the bride part ii</td>\n",
       "      <td>1995</td>\n",
       "      <td>Comedy</td>\n",
       "      <td>The film begins five years after the events of...</td>\n",
       "    </tr>\n",
       "    <tr>\n",
       "      <th>6</th>\n",
       "      <td>heat</td>\n",
       "      <td>1995</td>\n",
       "      <td>Action|Crime|Thriller</td>\n",
       "      <td>Neil McCauley, a career criminal, hires Waingr...</td>\n",
       "    </tr>\n",
       "    <tr>\n",
       "      <th>7</th>\n",
       "      <td>sabrina</td>\n",
       "      <td>1995</td>\n",
       "      <td>Comedy|Romance</td>\n",
       "      <td>Sabrina Fairchild is the young daughter of the...</td>\n",
       "    </tr>\n",
       "    <tr>\n",
       "      <th>8</th>\n",
       "      <td>tom and huck</td>\n",
       "      <td>1995</td>\n",
       "      <td>Adventure|Children</td>\n",
       "      <td>The movie opens with Injun Joe (Eric Schweig) ...</td>\n",
       "    </tr>\n",
       "    <tr>\n",
       "      <th>9</th>\n",
       "      <td>sudden death</td>\n",
       "      <td>1995</td>\n",
       "      <td>Action</td>\n",
       "      <td>Darren McCord (Jean-Claude Van Damme) is a Fre...</td>\n",
       "    </tr>\n",
       "    <tr>\n",
       "      <th>10</th>\n",
       "      <td>goldeneye</td>\n",
       "      <td>1995</td>\n",
       "      <td>Action|Adventure|Thriller</td>\n",
       "      <td>In 1986, at Arkhangelsk, MI6 agents James Bond...</td>\n",
       "    </tr>\n",
       "    <tr>\n",
       "      <th>12</th>\n",
       "      <td>dracula: dead and loving it</td>\n",
       "      <td>1995</td>\n",
       "      <td>Comedy|Horror</td>\n",
       "      <td>Solicitor Thomas Renfield travels all the way ...</td>\n",
       "    </tr>\n",
       "    <tr>\n",
       "      <th>13</th>\n",
       "      <td>balto</td>\n",
       "      <td>1995</td>\n",
       "      <td>Adventure|Animation|Children</td>\n",
       "      <td>In New York City, an elderly woman, her grandd...</td>\n",
       "    </tr>\n",
       "    <tr>\n",
       "      <th>14</th>\n",
       "      <td>nixon</td>\n",
       "      <td>1995</td>\n",
       "      <td>Drama</td>\n",
       "      <td>The movie begins in 1972 with the White House ...</td>\n",
       "    </tr>\n",
       "    <tr>\n",
       "      <th>15</th>\n",
       "      <td>cutthroat island</td>\n",
       "      <td>1995</td>\n",
       "      <td>Action|Adventure|Romance</td>\n",
       "      <td>In 1668 Jamaica, Morgan Adams hunts down her u...</td>\n",
       "    </tr>\n",
       "  </tbody>\n",
       "</table>\n",
       "</div>"
      ],
      "text/plain": [
       "                            title  year  \\\n",
       "item                                      \n",
       "1                       toy story  1995   \n",
       "2                         jumanji  1995   \n",
       "3                grumpier old men  1995   \n",
       "4               waiting to exhale  1995   \n",
       "5     father of the bride part ii  1995   \n",
       "6                            heat  1995   \n",
       "7                         sabrina  1995   \n",
       "8                    tom and huck  1995   \n",
       "9                    sudden death  1995   \n",
       "10                      goldeneye  1995   \n",
       "12    dracula: dead and loving it  1995   \n",
       "13                          balto  1995   \n",
       "14                          nixon  1995   \n",
       "15               cutthroat island  1995   \n",
       "\n",
       "                                           genres  \\\n",
       "item                                                \n",
       "1     Adventure|Animation|Children|Comedy|Fantasy   \n",
       "2                      Adventure|Children|Fantasy   \n",
       "3                                  Comedy|Romance   \n",
       "4                            Comedy|Drama|Romance   \n",
       "5                                          Comedy   \n",
       "6                           Action|Crime|Thriller   \n",
       "7                                  Comedy|Romance   \n",
       "8                              Adventure|Children   \n",
       "9                                          Action   \n",
       "10                      Action|Adventure|Thriller   \n",
       "12                                  Comedy|Horror   \n",
       "13                   Adventure|Animation|Children   \n",
       "14                                          Drama   \n",
       "15                       Action|Adventure|Romance   \n",
       "\n",
       "                                                   plot  \n",
       "item                                                     \n",
       "1     In a world where toys are living things who pr...  \n",
       "2     In 1869, near Brantford, New Hampshire, two br...  \n",
       "3     The feud between Max (Walter Matthau) and John...  \n",
       "4     \"Friends are the People who let you be yoursel...  \n",
       "5     The film begins five years after the events of...  \n",
       "6     Neil McCauley, a career criminal, hires Waingr...  \n",
       "7     Sabrina Fairchild is the young daughter of the...  \n",
       "8     The movie opens with Injun Joe (Eric Schweig) ...  \n",
       "9     Darren McCord (Jean-Claude Van Damme) is a Fre...  \n",
       "10    In 1986, at Arkhangelsk, MI6 agents James Bond...  \n",
       "12    Solicitor Thomas Renfield travels all the way ...  \n",
       "13    In New York City, an elderly woman, her grandd...  \n",
       "14    The movie begins in 1972 with the White House ...  \n",
       "15    In 1668 Jamaica, Morgan Adams hunts down her u...  "
      ]
     },
     "metadata": {},
     "output_type": "display_data"
    }
   ],
   "source": [
    "movies_df = pd.read_csv(preprocessed_dataset_folder+\"/movies.csv\", index_col=\"item\")\n",
    "display(movies_df.head(14))"
   ]
  },
  {
   "cell_type": "code",
   "execution_count": 5,
   "id": "2289fd2f",
   "metadata": {},
   "outputs": [
    {
     "name": "stdout",
     "output_type": "stream",
     "text": [
      "Selected users: [339 380 382 567]\n"
     ]
    }
   ],
   "source": [
    "# selection of random user and create groups of size 4\n",
    "users_ratings = ratings_df.groupby(['user']).count()\n",
    "\n",
    "groupsize = 4\n",
    "\n",
    "selected = users_ratings['rating'] > 200\n",
    "selected_users = users_ratings.loc[selected]\n",
    "random_selected = selected_users.sample(groupsize) # sample() returns a random row from the dataframe. The returned object is a dataframe with one row. If you pass a number as argument you specify to select more than one row.\n",
    "select_column_df = random_selected.reset_index()['user'] # reset_index() create a new index, and the user became a column. Then, we can filter using the column name\n",
    "selected_users = select_column_df.values # iloc select by index, since our dataframe only has one row we read it from the index 0\n",
    "selected_user = select_column_df.iloc[0] \n",
    "\n",
    "print(\"Selected users: \" + str(selected_users))"
   ]
  },
  {
   "cell_type": "code",
   "execution_count": 6,
   "id": "2c27b47f",
   "metadata": {},
   "outputs": [
    {
     "name": "stderr",
     "output_type": "stream",
     "text": [
      "BLAS using multiple threads - can cause oversubscription\n",
      "found 1 potential runtime problems - see https://boi.st/lkpy-perf\n"
     ]
    },
    {
     "name": "stdout",
     "output_type": "stream",
     "text": [
      "Precision:\t0.7076252723311547\n",
      "Recall:\t0.8547368421052631\n",
      "Fscore:\t0.7742550655542312\n"
     ]
    }
   ],
   "source": [
    "#Evaluation of a collaborative filtering approach using a holduot strategy with 80% for the training set and\n",
    "#remaining for test set\n",
    "train_df, test_df = train_test_split(ratings_df, test_size=0.2)\n",
    "\n",
    "user_user = UserUser(15, min_nbrs=3)  # Minimum (3) and maximum (15) number of neighbors to consider\n",
    "recsys = Recommender.adapt(user_user)\n",
    "recsys.fit(train_df)\n",
    "\n",
    "test_df['predicted_rating'] = recsys.predict(test_df)\n",
    "\n",
    "test_df['relevant'] = test_df['rating'].apply(lambda x: 1 if x>3 else 0)\n",
    "test_df['predicted_relevant'] = test_df['predicted_rating'].apply(lambda x: 1 if x>3 else 0)\n",
    "\n",
    "predicted_rating = test_df['predicted_rating'].apply(lambda x: 1 if x>3 else 0)\n",
    "\n",
    "y_test = list(test_df['relevant'])\n",
    "y_pred = list(test_df['predicted_relevant'])\n",
    "precision, recall, fscore, _ = precision_recall_fscore_support(y_test, y_pred, average=\"binary\")\n",
    "\n",
    "print(\"Precision:\\t\" + str(precision) + \n",
    "      \"\\nRecall:\\t\" + str(recall) + \n",
    "      \"\\nFscore:\\t\" + str(fscore))\n"
   ]
  },
  {
   "cell_type": "code",
   "execution_count": 7,
   "id": "f8fff499",
   "metadata": {},
   "outputs": [],
   "source": [
    "group_list = []\n",
    "for i in selected_users:\n",
    "    selected_movies = recsys.recommend(i, 10)\n",
    "    group_list.append(selected_movies)"
   ]
  },
  {
   "cell_type": "code",
   "execution_count": 8,
   "id": "f905bfdc",
   "metadata": {},
   "outputs": [],
   "source": [
    "group_df = pd.concat(group_list)\n",
    "group_df.drop_duplicates(subset=[\"item\"], inplace=True)"
   ]
  },
  {
   "cell_type": "code",
   "execution_count": 9,
   "id": "001a5f91",
   "metadata": {},
   "outputs": [
    {
     "name": "stdout",
     "output_type": "stream",
     "text": [
      "339\n",
      "380\n",
      "382\n",
      "567\n"
     ]
    }
   ],
   "source": [
    "lst = []\n",
    "for i in selected_users:\n",
    "    print(i)\n",
    "    grp = group_df.copy()\n",
    "    grp[\"user\"] = i\n",
    "    grp[\"pred\"] = recsys.predict_for_user(i, grp[\"item\"]).values\n",
    "    lst.append(grp)"
   ]
  },
  {
   "cell_type": "code",
   "execution_count": 10,
   "id": "2f3c25da",
   "metadata": {},
   "outputs": [],
   "source": [
    "final = pd.concat(lst)"
   ]
  },
  {
   "cell_type": "code",
   "execution_count": 11,
   "id": "928c9061",
   "metadata": {
    "scrolled": false
   },
   "outputs": [],
   "source": [
    "#Here I implement both least misery and additive aggregations strategies\n",
    "final.sort_values(by=[\"pred\"], inplace=True, ascending=False)\n",
    "final\n",
    "\n",
    "gbadd = final.groupby(\"item\", as_index=False)[\"pred\"].sum() #Additive strat\n",
    "gbleast = final.groupby(\"item\", as_index=False)[\"pred\"].min() #Least misery strat\n"
   ]
  },
  {
   "cell_type": "code",
   "execution_count": 12,
   "id": "5d81e98d",
   "metadata": {},
   "outputs": [
    {
     "data": {
      "text/html": [
       "<div>\n",
       "<style scoped>\n",
       "    .dataframe tbody tr th:only-of-type {\n",
       "        vertical-align: middle;\n",
       "    }\n",
       "\n",
       "    .dataframe tbody tr th {\n",
       "        vertical-align: top;\n",
       "    }\n",
       "\n",
       "    .dataframe thead th {\n",
       "        text-align: right;\n",
       "    }\n",
       "</style>\n",
       "<table border=\"1\" class=\"dataframe\">\n",
       "  <thead>\n",
       "    <tr style=\"text-align: right;\">\n",
       "      <th></th>\n",
       "      <th>item</th>\n",
       "      <th>pred</th>\n",
       "    </tr>\n",
       "  </thead>\n",
       "  <tbody>\n",
       "    <tr>\n",
       "      <th>10</th>\n",
       "      <td>3451</td>\n",
       "      <td>18.473165</td>\n",
       "    </tr>\n",
       "    <tr>\n",
       "      <th>9</th>\n",
       "      <td>3030</td>\n",
       "      <td>18.309451</td>\n",
       "    </tr>\n",
       "    <tr>\n",
       "      <th>2</th>\n",
       "      <td>1204</td>\n",
       "      <td>17.655362</td>\n",
       "    </tr>\n",
       "    <tr>\n",
       "      <th>15</th>\n",
       "      <td>3836</td>\n",
       "      <td>17.571734</td>\n",
       "    </tr>\n",
       "    <tr>\n",
       "      <th>7</th>\n",
       "      <td>2202</td>\n",
       "      <td>17.399665</td>\n",
       "    </tr>\n",
       "  </tbody>\n",
       "</table>\n",
       "</div>"
      ],
      "text/plain": [
       "    item       pred\n",
       "10  3451  18.473165\n",
       "9   3030  18.309451\n",
       "2   1204  17.655362\n",
       "15  3836  17.571734\n",
       "7   2202  17.399665"
      ]
     },
     "execution_count": 12,
     "metadata": {},
     "output_type": "execute_result"
    }
   ],
   "source": [
    "# considering 5 recommendations of add strat\n",
    "final_recommendationsAdd = gbadd.sort_values(by=[\"pred\"], ascending=False).head(5)\n",
    "final_recommendationsAdd"
   ]
  },
  {
   "cell_type": "code",
   "execution_count": 13,
   "id": "f3b60d70",
   "metadata": {},
   "outputs": [
    {
     "data": {
      "text/html": [
       "<div>\n",
       "<style scoped>\n",
       "    .dataframe tbody tr th:only-of-type {\n",
       "        vertical-align: middle;\n",
       "    }\n",
       "\n",
       "    .dataframe tbody tr th {\n",
       "        vertical-align: top;\n",
       "    }\n",
       "\n",
       "    .dataframe thead th {\n",
       "        text-align: right;\n",
       "    }\n",
       "</style>\n",
       "<table border=\"1\" class=\"dataframe\">\n",
       "  <thead>\n",
       "    <tr style=\"text-align: right;\">\n",
       "      <th></th>\n",
       "      <th>item</th>\n",
       "      <th>pred</th>\n",
       "    </tr>\n",
       "  </thead>\n",
       "  <tbody>\n",
       "    <tr>\n",
       "      <th>14</th>\n",
       "      <td>3606</td>\n",
       "      <td>5.180631</td>\n",
       "    </tr>\n",
       "    <tr>\n",
       "      <th>4</th>\n",
       "      <td>1236</td>\n",
       "      <td>4.736642</td>\n",
       "    </tr>\n",
       "    <tr>\n",
       "      <th>20</th>\n",
       "      <td>51931</td>\n",
       "      <td>4.732605</td>\n",
       "    </tr>\n",
       "    <tr>\n",
       "      <th>11</th>\n",
       "      <td>3494</td>\n",
       "      <td>4.601737</td>\n",
       "    </tr>\n",
       "    <tr>\n",
       "      <th>27</th>\n",
       "      <td>177593</td>\n",
       "      <td>4.495337</td>\n",
       "    </tr>\n",
       "  </tbody>\n",
       "</table>\n",
       "</div>"
      ],
      "text/plain": [
       "      item      pred\n",
       "14    3606  5.180631\n",
       "4     1236  4.736642\n",
       "20   51931  4.732605\n",
       "11    3494  4.601737\n",
       "27  177593  4.495337"
      ]
     },
     "execution_count": 13,
     "metadata": {},
     "output_type": "execute_result"
    }
   ],
   "source": [
    "# considering 5 recommendations of least strat\n",
    "final_recommendationsleast = gbleast.sort_values(by=[\"pred\"], ascending=False).head(5)\n",
    "final_recommendationsleast"
   ]
  },
  {
   "cell_type": "code",
   "execution_count": 14,
   "id": "1213d059",
   "metadata": {
    "scrolled": true
   },
   "outputs": [
    {
     "data": {
      "text/html": [
       "<div>\n",
       "<style scoped>\n",
       "    .dataframe tbody tr th:only-of-type {\n",
       "        vertical-align: middle;\n",
       "    }\n",
       "\n",
       "    .dataframe tbody tr th {\n",
       "        vertical-align: top;\n",
       "    }\n",
       "\n",
       "    .dataframe thead th {\n",
       "        text-align: right;\n",
       "    }\n",
       "</style>\n",
       "<table border=\"1\" class=\"dataframe\">\n",
       "  <thead>\n",
       "    <tr style=\"text-align: right;\">\n",
       "      <th></th>\n",
       "      <th>item</th>\n",
       "      <th>pred</th>\n",
       "    </tr>\n",
       "  </thead>\n",
       "  <tbody>\n",
       "    <tr>\n",
       "      <th>10</th>\n",
       "      <td>3451</td>\n",
       "      <td>18.473165</td>\n",
       "    </tr>\n",
       "    <tr>\n",
       "      <th>9</th>\n",
       "      <td>3030</td>\n",
       "      <td>18.309451</td>\n",
       "    </tr>\n",
       "    <tr>\n",
       "      <th>2</th>\n",
       "      <td>1204</td>\n",
       "      <td>17.655362</td>\n",
       "    </tr>\n",
       "    <tr>\n",
       "      <th>15</th>\n",
       "      <td>3836</td>\n",
       "      <td>17.571734</td>\n",
       "    </tr>\n",
       "    <tr>\n",
       "      <th>7</th>\n",
       "      <td>2202</td>\n",
       "      <td>17.399665</td>\n",
       "    </tr>\n",
       "  </tbody>\n",
       "</table>\n",
       "</div>"
      ],
      "text/plain": [
       "    item       pred\n",
       "10  3451  18.473165\n",
       "9   3030  18.309451\n",
       "2   1204  17.655362\n",
       "15  3836  17.571734\n",
       "7   2202  17.399665"
      ]
     },
     "execution_count": 14,
     "metadata": {},
     "output_type": "execute_result"
    }
   ],
   "source": [
    "evaluateAdd = final_recommendationsAdd.copy()\n",
    "for i in selected_users:\n",
    "    evaluateAdd[i] = recsys.predict_for_user(i, final_recommendationsAdd[\"item\"]).values\n",
    "evaluateAdd\n",
    "# if the scores is not possible,replace with 0\n",
    "evaluateAdd.fillna(0, inplace=True)\n",
    "recommended_ordering = pd.DataFrame(evaluateAdd[[\"item\",\"pred\"]])\n",
    "recommended_ordering"
   ]
  },
  {
   "cell_type": "code",
   "execution_count": 15,
   "id": "7d5490fb",
   "metadata": {},
   "outputs": [
    {
     "data": {
      "text/html": [
       "<div>\n",
       "<style scoped>\n",
       "    .dataframe tbody tr th:only-of-type {\n",
       "        vertical-align: middle;\n",
       "    }\n",
       "\n",
       "    .dataframe tbody tr th {\n",
       "        vertical-align: top;\n",
       "    }\n",
       "\n",
       "    .dataframe thead th {\n",
       "        text-align: right;\n",
       "    }\n",
       "</style>\n",
       "<table border=\"1\" class=\"dataframe\">\n",
       "  <thead>\n",
       "    <tr style=\"text-align: right;\">\n",
       "      <th></th>\n",
       "      <th>item</th>\n",
       "      <th>pred</th>\n",
       "    </tr>\n",
       "  </thead>\n",
       "  <tbody>\n",
       "    <tr>\n",
       "      <th>14</th>\n",
       "      <td>3606</td>\n",
       "      <td>5.180631</td>\n",
       "    </tr>\n",
       "    <tr>\n",
       "      <th>4</th>\n",
       "      <td>1236</td>\n",
       "      <td>4.736642</td>\n",
       "    </tr>\n",
       "    <tr>\n",
       "      <th>20</th>\n",
       "      <td>51931</td>\n",
       "      <td>4.732605</td>\n",
       "    </tr>\n",
       "    <tr>\n",
       "      <th>11</th>\n",
       "      <td>3494</td>\n",
       "      <td>4.601737</td>\n",
       "    </tr>\n",
       "    <tr>\n",
       "      <th>27</th>\n",
       "      <td>177593</td>\n",
       "      <td>4.495337</td>\n",
       "    </tr>\n",
       "  </tbody>\n",
       "</table>\n",
       "</div>"
      ],
      "text/plain": [
       "      item      pred\n",
       "14    3606  5.180631\n",
       "4     1236  4.736642\n",
       "20   51931  4.732605\n",
       "11    3494  4.601737\n",
       "27  177593  4.495337"
      ]
     },
     "execution_count": 15,
     "metadata": {},
     "output_type": "execute_result"
    }
   ],
   "source": [
    "evaluateleast = final_recommendationsleast.copy()\n",
    "for i in selected_users:\n",
    "    evaluateleast[i] = recsys.predict_for_user(i, final_recommendationsleast[\"item\"]).values\n",
    "evaluateleast\n",
    "#same here but null values\n",
    "evaluateleast.fillna(0, inplace=True)\n",
    "recommended_orderingleast = pd.DataFrame(evaluateleast[[\"item\",\"pred\"]])\n",
    "recommended_orderingleast"
   ]
  },
  {
   "cell_type": "code",
   "execution_count": 16,
   "id": "3a5da9a3",
   "metadata": {},
   "outputs": [
    {
     "data": {
      "text/plain": [
       "[0.9293685767637416,\n",
       " 0.9938359879102177,\n",
       " 0.9439968444469227,\n",
       " 0.8213783475362092]"
      ]
     },
     "execution_count": 16,
     "metadata": {},
     "output_type": "execute_result"
    }
   ],
   "source": [
    "#decupled evaluation for additive strategy\n",
    "ndcg_lstAdd = []\n",
    "\n",
    "for i in selected_users:\n",
    "    evaluateAdd.sort_values(by=[i], ascending=False, inplace=True)\n",
    "    ev = pd.DataFrame(evaluateAdd[[\"item\", i]])\n",
    "    val = ndcg_score([ev.item], [recommended_ordering.item])\n",
    "    ndcg_lstAdd.append(val)\n",
    "\n",
    "ndcg_lstAdd"
   ]
  },
  {
   "cell_type": "code",
   "execution_count": 17,
   "id": "67bf9f01",
   "metadata": {},
   "outputs": [
    {
     "data": {
      "text/plain": [
       "[0.7833891010929883, 0.620619385206245, 0.5937611944304179, 0.5937611944304179]"
      ]
     },
     "execution_count": 17,
     "metadata": {},
     "output_type": "execute_result"
    }
   ],
   "source": [
    "#decoupled evaluation for least misery strategy\n",
    "ndcg_lstleast = []\n",
    "\n",
    "for i in selected_users:\n",
    "    evaluateleast.sort_values(by=[i], ascending=False, inplace=True)\n",
    "    ev = pd.DataFrame(evaluateleast[[\"item\", i]])\n",
    "    val = ndcg_score([ev.item], [recommended_orderingleast.item])\n",
    "    ndcg_lstleast.append(val)\n",
    "\n",
    "ndcg_lstleast"
   ]
  },
  {
   "cell_type": "code",
   "execution_count": 18,
   "id": "cb12c3c0",
   "metadata": {},
   "outputs": [
    {
     "data": {
      "text/plain": [
       "0.9221449391642728"
      ]
     },
     "execution_count": 18,
     "metadata": {},
     "output_type": "execute_result"
    }
   ],
   "source": [
    "#then I take the mean of the ndcg score for add strat\n",
    "mean(ndcg_lstAdd)"
   ]
  },
  {
   "cell_type": "code",
   "execution_count": 19,
   "id": "34b645f8",
   "metadata": {},
   "outputs": [
    {
     "data": {
      "text/plain": [
       "0.6478827187900172"
      ]
     },
     "execution_count": 19,
     "metadata": {},
     "output_type": "execute_result"
    }
   ],
   "source": [
    "#and then the mean of the ndcg score for least strat\n",
    "mean(ndcg_lstleast)"
   ]
  },
  {
   "cell_type": "markdown",
   "id": "de956f10",
   "metadata": {},
   "source": [
    "After running the code several times, it seems like there is no big differences between least misery strategy and additive strategy, sometimes it shows that additive is better and sometimes it shows that least misery is better. So to make my results more accurate, I have made a method pipeline in an other file than this one, where I have made 3 times 1000 run and took the mean of it, and it appears that additive strategy is slightly better than least misery strategy but not really better, just slighlty. To check those results, please look at the pipeline Alternative Resit jupyter file."
   ]
  }
 ],
 "metadata": {
  "kernelspec": {
   "display_name": "Python 3 (ipykernel)",
   "language": "python",
   "name": "python3"
  },
  "language_info": {
   "codemirror_mode": {
    "name": "ipython",
    "version": 3
   },
   "file_extension": ".py",
   "mimetype": "text/x-python",
   "name": "python",
   "nbconvert_exporter": "python",
   "pygments_lexer": "ipython3",
   "version": "3.9.13"
  }
 },
 "nbformat": 4,
 "nbformat_minor": 5
}
